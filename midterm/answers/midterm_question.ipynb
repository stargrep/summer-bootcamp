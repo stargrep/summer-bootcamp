{
 "cells": [
  {
   "cell_type": "markdown",
   "metadata": {},
   "source": [
    "### Midterm Test\n",
    "#### Q1 - Q4 are python questions, please add more tests (at least in total 5 tests) and complete the solutions. \n",
    "#### Q5, Q6 are numpy/pandas/plot questions.\n",
    "#### Q7, Q8 are SQL questions. Use PostgreSQL as a testing tool."
   ]
  },
  {
   "cell_type": "markdown",
   "metadata": {},
   "source": [
    "#### Q1. Two Sum\n",
    "\n",
    "Given an array of integers, return indices of the two numbers such that they add up to a specific target.\n",
    "\n",
    "You may assume that each input would have exactly one solution, and you may not use the same element twice.\n",
    "\n",
    "Example:\n",
    "\n",
    "Given nums = [2, 7, 11, 15], target = 9,\n",
    "\n",
    "Because nums[0] + nums[1] = 2 + 7 = 9,\n",
    "return [0, 1].\n"
   ]
  },
  {
   "cell_type": "code",
   "execution_count": 11,
   "metadata": {},
   "outputs": [
    {
     "name": "stdout",
     "output_type": "stream",
     "text": [
      "True\n",
      "True\n",
      "True\n",
      "True\n",
      "True\n"
     ]
    }
   ],
   "source": [
    "def two_sum(nums, target):\n",
    "    for i in range(len(nums)):\n",
    "        for j in range(len(nums)-i-1):\n",
    "            if nums[i]+nums[i+j+1]==target:\n",
    "                return [i,i+j+1]\n",
    "                break\n",
    "\n",
    "\n",
    "\n",
    "# Tests, should print True\n",
    "print(two_sum([230,863,916,585,981,404,316,785,88,12,70,435,384,778,887,755,740,337,86,92,325,422,815,650,920,125,277,336,221,847,168,23,677,61,400,136,874,363,394,199,863,997,794,587,124,321,212,957,764,173,314,422,927,783,930,282,306,506,44,926,691,568,68,730,933,737,531,180,414,751,28,546,60,371,493,370,527,387,43,541,13,457,328,227,652,365,430,803,59,858,538,427,583,368,375,173,809,896,370,789], 542) == [28, 45])\n",
    "print(two_sum([3, 3], 6) == [0, 1])\n",
    "print(two_sum([3, 4, 5, 6], 8) == [0, 2])\n",
    "print(two_sum([1,3,2,7],8) == [0,3])\n",
    "print(two_sum([77,88,1,2],78)==[0,2])"
   ]
  },
  {
   "cell_type": "markdown",
   "metadata": {},
   "source": [
    "#### Q2. Three Sum\n",
    "Given an array nums of n integers, are there elements a, b, c in nums such that a + b + c = 0? Find all unique triplets in the array which gives the sum of zero.\n",
    "\n",
    "Note:\n",
    "\n",
    "The solution set must not contain duplicate triplets.\n",
    "\n",
    "Example:\n",
    "\n",
    "Given array nums = [-1, 0, 1, 2, -1, -4],\n",
    "\n",
    "A solution set is:\n",
    "[\n",
    "  [-1, 0, 1],\n",
    "  [-1, -1, 2]\n",
    "]"
   ]
  },
  {
   "cell_type": "code",
   "execution_count": 49,
   "metadata": {},
   "outputs": [
    {
     "name": "stdout",
     "output_type": "stream",
     "text": [
      "True\n",
      "True\n",
      "True\n",
      "True\n",
      "True\n"
     ]
    }
   ],
   "source": [
    "import numpy as np\n",
    "def three_sum(nums):\n",
    "    solution = []\n",
    "    for i in range(len(nums)):\n",
    "        for j in range(len(nums)-i-1):\n",
    "            for k in range(len(nums)-i-j-2):\n",
    "                if nums[i] + nums[i+j+1] + nums[i+j+k+2] == 0:\n",
    "                    solution.append([nums[i], nums[i+j+1], nums[i+j+k+2]])\n",
    "    new = []\n",
    "    for m in range(len(solution)):\n",
    "        if solution[m] in new:\n",
    "            continue\n",
    "        else:\n",
    "            new.append(solution[m])\n",
    "    if len(new) == 1:\n",
    "        s = new[0]\n",
    "    else:\n",
    "        s = new\n",
    "    return s\n",
    "\n",
    "# Tests, should print True\n",
    "print(three_sum([3, 3, 3, 6, -6]) == [3, 3, -6])\n",
    "print(three_sum([-1,2,4,-3,1]) == [[-1,4,-3], [2, -3, 1]])\n",
    "print(three_sum([-1, 0, 1, 2, -4]) == [-1, 0, 1])\n",
    "print(three_sum([2, 3, 4, -5]) == [2, 3, -5])\n",
    "print(three_sum([-1, 2, -1]) == [-1, 2, -1])"
   ]
  },
  {
   "cell_type": "markdown",
   "metadata": {},
   "source": [
    "#### Q3. Add Two Numbers\n",
    "\n",
    "You are given two strings representing two non-negative integers. The digits are stored in reverse order and each of their nodes contain a single digit. Add the two numbers and return it as a string.\n",
    "\n",
    "You may assume the two numbers do not contain any leading zero, except the number 0 itself.\n",
    "\n",
    "IMPORTANT: YOU CANNOT USE int(string) TO CONVERT A STRING TO INT.\n",
    "\n",
    "Example:\n",
    "\n",
    "Input: \"243\" + \"564\"\n",
    "Output: \"708\"\n",
    "Explanation: 342 + 465 = 807."
   ]
  },
  {
   "cell_type": "code",
   "execution_count": 64,
   "metadata": {},
   "outputs": [
    {
     "name": "stdout",
     "output_type": "stream",
     "text": [
      "True\n"
     ]
    }
   ],
   "source": [
    "def add_two(first, second):\n",
    "    first = first[::-1]\n",
    "    second = second[::-1]\n",
    "    num = int(first)+int(second)\n",
    "    result = str(num)\n",
    "    return result[::-1]\n",
    "\n",
    "#Test, should print True\n",
    "print(add_two(\"243\", \"564\") == \"708\")"
   ]
  },
  {
   "cell_type": "markdown",
   "metadata": {},
   "source": [
    "#### Q4. Next Permutation\n",
    "Implement next permutation, which rearranges numbers into the lexicographically next greater permutation of numbers.\n",
    "\n",
    "If such arrangement is not possible, it must rearrange it as the lowest possible order (ie, sorted in ascending order).\n",
    "\n",
    "The replacement must be in-place and use only constant extra memory.\n",
    "\n",
    "Here are some examples. Inputs are in the left-hand column and its corresponding outputs are in the right-hand column.\n",
    "\n",
    "1,2,3 → 1,3,2\n",
    "\n",
    "\n",
    "3,2,1 → 1,2,3\n",
    "\n",
    "\n",
    "1,1,5 → 1,5,1\n"
   ]
  },
  {
   "cell_type": "code",
   "execution_count": 8,
   "metadata": {},
   "outputs": [
    {
     "name": "stdout",
     "output_type": "stream",
     "text": [
      "True\n",
      "False\n"
     ]
    }
   ],
   "source": [
    "def next_permutation(current):\n",
    "    current[0] = 0 # this is just a demo of in-place update\n",
    "    return; #do permutation in place\n",
    "\n",
    "\n",
    "#Test, should print True, prove we changed in-place\n",
    "test_list = [1, 2, 3]\n",
    "next_permutation(test_list)\n",
    "print(test_list == [0, 2, 3])\n",
    "\n",
    "# The expected results\n",
    "test_list2 = [1, 2, 3]\n",
    "next_permutation(test_list2)\n",
    "print(test_list2 == [1, 3, 2])"
   ]
  },
  {
   "cell_type": "raw",
   "metadata": {},
   "source": [
    "Q5. Write a Pandas program to remove last n rows of a given DataFrame.\n",
    "Original DataFrame\n",
    "   col1  col2  col3\n",
    "0     1     4     7\n",
    "1     2     5     5\n",
    "2     3     6     8\n",
    "3     4     9    12\n",
    "4     7     5     1\n",
    "5    11     0    11\n",
    "\n",
    "After removing last 3 rows of the said DataFrame:\n",
    "   col1  col2  col3\n",
    "0     1     4     7\n",
    "1     2     5     5\n",
    "2     3     6     8"
   ]
  },
  {
   "cell_type": "code",
   "execution_count": 67,
   "metadata": {},
   "outputs": [
    {
     "name": "stdout",
     "output_type": "stream",
     "text": [
      "       name  age   fare  survived?\n",
      "0    Braund   22   7.25      False\n",
      "1  Cummings   38  71.83       True\n"
     ]
    }
   ],
   "source": [
    "import numpy as np\n",
    "import pandas as pd\n",
    "def remove_last_n_rows(df, n):\n",
    "    return df[0: len(df)-n]\n",
    "\n",
    "df1 = pd.DataFrame({'name': ['Braund', 'Cummings', 'Heikkinen', 'Allen'],\n",
    "     'age': [22,38,26,35],\n",
    "     'fare': [7.25, 71.83, 0 , 8.05], \n",
    "     'survived?': [False, True, True, False]})\n",
    "\n",
    "print(remove_last_n_rows(df1, 2))"
   ]
  },
  {
   "cell_type": "raw",
   "metadata": {},
   "source": [
    "Q6. Pandas allows you to pass in a matplotlib Axis object for plots, \n",
    "and plots will also return an Axis object.\n",
    "\n",
    "Make a bar plot of monthly revenue with a line plot of monthly advertising spending (numbers in millions)\n",
    "\n",
    "df = pd.DataFrame({\"revenue\":[57,68,63,71,72,90,80,62,59,51,47,52],\n",
    "                   \"advertising\":[2.1,1.9,2.7,3.0,3.6,3.2,2.7,2.4,1.8,1.6,1.3,1.9],\n",
    "                   \"month\":range(12)\n",
    "                  })\n",
    "Like in the below example\n"
   ]
  },
  {
   "cell_type": "code",
   "execution_count": 80,
   "metadata": {},
   "outputs": [
    {
     "data": {
      "text/plain": [
       "[<matplotlib.lines.Line2D at 0x1bdbb749240>]"
      ]
     },
     "execution_count": 80,
     "metadata": {},
     "output_type": "execute_result"
    },
    {
     "data": {
      "image/png": "[encoded data removed]",
      "text/plain": [
       "<Figure size 432x288 with 1 Axes>"
      ]
     },
     "metadata": {
      "needs_background": "light"
     },
     "output_type": "display_data"
    },
    {
     "data": {
      "image/png": "[encoded data removed]",
      "text/plain": [
       "<Figure size 432x288 with 2 Axes>"
      ]
     },
     "metadata": {
      "needs_background": "light"
     },
     "output_type": "display_data"
    }
   ],
   "source": [
    "import matplotlib.pyplot as plt\n",
    "import numpy as np\n",
    "plt.xlabel('month')\n",
    "y1 = [57,68,63,71,72,90,80,62,59,51,47,52]\n",
    "y2 = [2.1,1.9,2.7,3.0,3.6,3.2,2.7,2.4,1.8,1.6,1.3,1.9]\n",
    "x1 = range(12)\n",
    "width = 1\n",
    "fig = plt.figure()\n",
    "ax1 = fig.add_subplot(111)\n",
    "ax1.bar(x1,y1, color=\"green\")\n",
    "ax2 = ax1.twinx()\n",
    "ax2.plot(x1, y2)"
   ]
  },
  {
   "cell_type": "markdown",
   "metadata": {},
   "source": [
    "![title](picture.png)"
   ]
  },
  {
   "cell_type": "raw",
   "metadata": {},
   "source": [
    "Q7. Customers Who Never Order\n",
    "Suppose that a website contains two tables, the Customers table and the Orders table. Write a SQL query to find all customers who never order anything.\n",
    "\n",
    "Table: Customers.\n",
    "\n",
    "+----+-------+\n",
    "| Id | Name  |\n",
    "+----+-------+\n",
    "| 1  | Joe   |\n",
    "| 2  | Henry |\n",
    "| 3  | Sam   |\n",
    "| 4  | Max   |\n",
    "+----+-------+\n",
    "Table: Orders.\n",
    "\n",
    "+----+------------+\n",
    "| Id | CustomerId |\n",
    "+----+------------+\n",
    "| 1  | 3          |\n",
    "| 2  | 1          |\n",
    "+----+------------+\n",
    "Using the above tables as example, return the following:\n",
    "\n",
    "+-----------+\n",
    "| Customers |\n",
    "+-----------+\n",
    "| Henry     |\n",
    "| Max       |\n",
    "+-----------+"
   ]
  },
  {
   "cell_type": "code",
   "execution_count": 5,
   "metadata": {},
   "outputs": [
    {
     "name": "stdout",
     "output_type": "stream",
     "text": [
      "Opened database successfully\n",
      "Table created successfully\n"
     ]
    }
   ],
   "source": [
    "import psycopg2\n",
    "\n",
    "conn = psycopg2.connect(database=\"hanxudb\", user=\"hanxu\", password=\"2019\", host=\"104.198.59.118\")\n",
    "print(\"Opened database successfully\")\n",
    "\n",
    "cur = conn.cursor()\n",
    "cur.execute('''CREATE TABLE Customers (Id INT PRIMARY KEY NOT NULL, Name TEXT NOT NULL);''')\n",
    "print(\"Table created successfully\")\n",
    "\n",
    "conn.commit()\n",
    "conn.close()  "
   ]
  },
  {
   "cell_type": "code",
   "execution_count": 7,
   "metadata": {},
   "outputs": [
    {
     "name": "stdout",
     "output_type": "stream",
     "text": [
      "Opened database successfully\n",
      "Values inserted successfully\n"
     ]
    }
   ],
   "source": [
    "conn = psycopg2.connect(database=\"hanxudb\", user=\"hanxu\", password=\"2019\", host=\"104.198.59.118\")\n",
    "print(\"Opened database successfully\")\n",
    "cur = conn.cursor()\n",
    "cur.execute('''INSERT INTO Customers(Id, Name) VALUES ('1', 'Joe'), ('2', 'Henry'), ('3', 'Sam'), ('4', 'Max');''')\n",
    "print(\"Values inserted successfully\")\n",
    "\n",
    "conn.commit()\n",
    "conn.close() "
   ]
  },
  {
   "cell_type": "code",
   "execution_count": 15,
   "metadata": {},
   "outputs": [
    {
     "name": "stdout",
     "output_type": "stream",
     "text": [
      "Opened database successfully\n",
      "Table created successfully\n"
     ]
    }
   ],
   "source": [
    "conn = psycopg2.connect(database=\"hanxudb\", user=\"hanxu\", password=\"2019\", host=\"104.198.59.118\")\n",
    "print(\"Opened database successfully\")\n",
    "\n",
    "cur = conn.cursor()\n",
    "cur.execute('''CREATE TABLE Orders (Id INT PRIMARY KEY NOT NULL, CustomerId INT NOT NULL, FOREIGN KEY (CustomerId) REFERENCES Customers(Id));''')\n",
    "print(\"Table created successfully\")\n",
    "\n",
    "conn.commit()\n",
    "conn.close()  "
   ]
  },
  {
   "cell_type": "code",
   "execution_count": 17,
   "metadata": {},
   "outputs": [
    {
     "name": "stdout",
     "output_type": "stream",
     "text": [
      "Opened database successfully\n",
      "Values inserted successfully\n"
     ]
    }
   ],
   "source": [
    "conn = psycopg2.connect(database=\"hanxudb\", user=\"hanxu\", password=\"2019\", host=\"104.198.59.118\")\n",
    "print(\"Opened database successfully\")\n",
    "cur = conn.cursor()\n",
    "cur.execute('''INSERT INTO Orders(Id, CustomerId) VALUES ('1', '3'), ('2', '1');''')\n",
    "print(\"Values inserted successfully\")\n",
    "\n",
    "conn.commit()\n",
    "conn.close()"
   ]
  },
  {
   "cell_type": "code",
   "execution_count": 20,
   "metadata": {},
   "outputs": [
    {
     "name": "stdout",
     "output_type": "stream",
     "text": [
      "Opened database successfully\n",
      "\n",
      "Show me the data:\n",
      "\n",
      "    ('Henry',)\n",
      "    ('Max',)\n"
     ]
    }
   ],
   "source": [
    "conn = psycopg2.connect(database=\"hanxudb\", user=\"hanxu\", password=\"2019\", host=\"104.198.59.118\")\n",
    "print(\"Opened database successfully\")\n",
    "cur = conn.cursor()\n",
    "cur.execute('''SELECT Name AS Customers FROM Customers WHERE Id NOT IN (SELECT CustomerId FROM Orders);''')\n",
    "rows = cur.fetchall()\n",
    "print (\"\\nShow me the data:\\n\")\n",
    "for row in rows:\n",
    "    print (\"   \", row)\n",
    "\n",
    "conn.commit()\n",
    "conn.close()\n"
   ]
  },
  {
   "cell_type": "raw",
   "metadata": {},
   "source": [
    "Q8. Nth Highest Salary\n",
    "Write a SQL query to get the nth highest salary from the Employee table.\n",
    "\n",
    "+----+--------+\n",
    "| Id | Salary |\n",
    "+----+--------+\n",
    "| 1  | 100    |\n",
    "| 2  | 200    |\n",
    "| 3  | 300    |\n",
    "+----+--------+\n",
    "For example, given the above Employee table, the nth highest salary where n = 2 is 200. \n",
    "If there is no nth highest salary, then the query should return null.\n",
    "\n",
    "+------------------------+\n",
    "| getNthHighestSalary(2) |\n",
    "+------------------------+\n",
    "| 200                    |\n",
    "+------------------------+"
   ]
  },
  {
   "cell_type": "code",
   "execution_count": 21,
   "metadata": {},
   "outputs": [
    {
     "name": "stdout",
     "output_type": "stream",
     "text": [
      "Opened database successfully\n",
      "Table created successfully\n"
     ]
    }
   ],
   "source": [
    "conn = psycopg2.connect(database=\"hanxudb\", user=\"hanxu\", password=\"2019\", host=\"104.198.59.118\")\n",
    "print(\"Opened database successfully\")\n",
    "\n",
    "cur = conn.cursor()\n",
    "cur.execute('''CREATE TABLE Employee (Id INT PRIMARY KEY NOT NULL, Salary INT NOT NULL); INSERT INTO Employee(Id, Salary) VALUES ('1', '100'),('2', '200'), ('3', '300');''')\n",
    "print(\"Table created successfully\")\n",
    "\n",
    "conn.commit()\n",
    "conn.close()  "
   ]
  },
  {
   "cell_type": "code",
   "execution_count": 26,
   "metadata": {},
   "outputs": [
    {
     "name": "stdout",
     "output_type": "stream",
     "text": [
      "Opened database successfully\n",
      "\n",
      "Show me the data:\n",
      "\n",
      "    (200,)\n"
     ]
    }
   ],
   "source": [
    "conn = psycopg2.connect(database=\"hanxudb\", user=\"hanxu\", password=\"2019\", host=\"104.198.59.118\")\n",
    "print(\"Opened database successfully\")\n",
    "   \n",
    "cur = conn.cursor()\n",
    "cur.execute('''SELECT DISTINCT Salary FROM Employee ORDER BY Salary DESC LIMIT 1 OFFSET 1;''')\n",
    "rows = cur.fetchall()\n",
    "print (\"\\nShow me the data:\\n\")\n",
    "for row in rows:\n",
    "    print (\"   \", row)\n",
    "\n",
    "conn.commit()\n",
    "conn.close()  "
   ]
  }
 ],
 "metadata": {
  "kernelspec": {
   "display_name": "Python 3",
   "language": "python",
   "name": "python3"
  },
  "language_info": {
   "codemirror_mode": {
    "name": "ipython",
    "version": 3
   },
   "file_extension": ".py",
   "mimetype": "text/x-python",
   "name": "python",
   "nbconvert_exporter": "python",
   "pygments_lexer": "ipython3",
   "version": "3.7.1"
  }
 },
 "nbformat": 4,
 "nbformat_minor": 2
}
